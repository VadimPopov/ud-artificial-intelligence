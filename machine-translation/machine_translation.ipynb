{
 "cells": [
  {
   "cell_type": "markdown",
   "metadata": {
    "collapsed": true
   },
   "source": [
    "# Artificial Intelligence Nanodegree\n",
    "## Machine Translation Project\n",
    "In this notebook, sections that end with **'(IMPLEMENTATION)'** in the header indicate that the following blocks of code will require additional functionality which you must provide. Please be sure to read the instructions carefully!\n",
    "\n",
    "## Introduction\n",
    "In this notebook, you will build a deep neural network that functions as part of an end-to-end machine translation pipeline. Your completed pipeline will accept English text as input and return the French translation.\n",
    "\n",
    "- **Preprocess** - You'll convert text to sequence of integers.\n",
    "- **Models** Create models which accepts a sequence of integers as input and returns a probability distribution over possible translations. After learning about the basic types of neural networks that are often used for machine translation, you will engage in your own investigations, to design your own model!\n",
    "- **Prediction** Run the model on English text.\n",
    "\n",
    "## Dataset\n",
    "We begin by investigating the dataset that will be used to train and evaluate your pipeline.  The most common datasets used for machine translation are from [WMT](http://www.statmt.org/).  However, that will take a long time to train a neural network on.  We'll be using a dataset we created for this project that contains a small vocabulary.  You'll be able to train your model in a reasonable time with this dataset.\n",
    "### Load Data\n",
    "The data is located in `data/small_vocab_en` and `data/small_vocab_fr`. The `small_vocab_en` file contains English sentences with their French translations in the `small_vocab_fr` file. Load the English and French data from these files from running the cell below."
   ]
  },
  {
   "cell_type": "code",
   "execution_count": 1,
   "metadata": {},
   "outputs": [
    {
     "name": "stdout",
     "output_type": "stream",
     "text": [
      "Dataset Loaded\n"
     ]
    }
   ],
   "source": [
    "import helper\n",
    "\n",
    "# Load English data\n",
    "english_sentences = helper.load_data('data/small_vocab_en')\n",
    "# Load French data\n",
    "french_sentences = helper.load_data('data/small_vocab_fr')\n",
    "\n",
    "print('Dataset Loaded')"
   ]
  },
  {
   "cell_type": "markdown",
   "metadata": {},
   "source": [
    "### Files\n",
    "Each line in `small_vocab_en` contains an English sentence with the respective translation in each line of `small_vocab_fr`.  View the first two lines from each file."
   ]
  },
  {
   "cell_type": "code",
   "execution_count": 2,
   "metadata": {},
   "outputs": [
    {
     "name": "stdout",
     "output_type": "stream",
     "text": [
      "small_vocab_en Line 1:  new jersey is sometimes quiet during autumn , and it is snowy in april .\n",
      "small_vocab_fr Line 1:  new jersey est parfois calme pendant l' automne , et il est neigeux en avril .\n",
      "small_vocab_en Line 2:  the united states is usually chilly during july , and it is usually freezing in november .\n",
      "small_vocab_fr Line 2:  les Г©tats-unis est gГ©nГ©ralement froid en juillet , et il gГЁle habituellement en novembre .\n"
     ]
    }
   ],
   "source": [
    "for sample_i in range(2):\n",
    "    print('small_vocab_en Line {}:  {}'.format(sample_i + 1, english_sentences[sample_i]))\n",
    "    print('small_vocab_fr Line {}:  {}'.format(sample_i + 1, french_sentences[sample_i]))"
   ]
  },
  {
   "cell_type": "markdown",
   "metadata": {},
   "source": [
    "From looking at the sentences, you can see they have been preprocessed already.  The puncuations have been delimited using spaces. All the text have been converted to lowercase.  This should save you some time, but the text requires more preprocessing.\n",
    "### Vocabulary\n",
    "The complexity of the problem is determined by the complexity of the vocabulary.  A more complex vocabulary is a more complex problem.  Let's look at the complexity of the dataset we'll be working with."
   ]
  },
  {
   "cell_type": "code",
   "execution_count": 2,
   "metadata": {},
   "outputs": [
    {
     "name": "stdout",
     "output_type": "stream",
     "text": [
      "1823250 English words.\n",
      "227 unique English words.\n",
      "10 Most common words in the English dataset:\n",
      "\"is\" \",\" \".\" \"in\" \"it\" \"during\" \"the\" \"but\" \"and\" \"sometimes\"\n",
      "\n",
      "1961295 French words.\n",
      "355 unique French words.\n",
      "10 Most common words in the French dataset:\n",
      "\"est\" \".\" \",\" \"en\" \"il\" \"les\" \"mais\" \"et\" \"la\" \"parfois\"\n"
     ]
    }
   ],
   "source": [
    "import collections\n",
    "\n",
    "english_words_counter = collections.Counter([word for sentence in english_sentences for word in sentence.split()])\n",
    "french_words_counter = collections.Counter([word for sentence in french_sentences for word in sentence.split()])\n",
    "\n",
    "print('{} English words.'.format(len([word for sentence in english_sentences for word in sentence.split()])))\n",
    "print('{} unique English words.'.format(len(english_words_counter)))\n",
    "print('10 Most common words in the English dataset:')\n",
    "print('\"' + '\" \"'.join(list(zip(*english_words_counter.most_common(10)))[0]) + '\"')\n",
    "print()\n",
    "print('{} French words.'.format(len([word for sentence in french_sentences for word in sentence.split()])))\n",
    "print('{} unique French words.'.format(len(french_words_counter)))\n",
    "print('10 Most common words in the French dataset:')\n",
    "print('\"' + '\" \"'.join(list(zip(*french_words_counter.most_common(10)))[0]) + '\"')"
   ]
  },
  {
   "cell_type": "markdown",
   "metadata": {},
   "source": [
    "For comparison, _Alice's Adventures in Wonderland_ contains 2,766 unique words of a total of 15,500 words.\n",
    "## Preprocess\n",
    "For this project, you won't use text data as input to your model. Instead, you'll convert the text into sequences of integers using the following preprocess methods:\n",
    "1. Tokenize the words into ids\n",
    "2. Add padding to make all the sequences the same length.\n",
    "\n",
    "Time to start preprocessing the data...\n",
    "### Tokenize (IMPLEMENTATION)\n",
    "For a neural network to predict on text data, it first has to be turned into data it can understand. Text data like \"dog\" is a sequence of ASCII character encodings.  Since a neural network is a series of multiplication and addition operations, the input data needs to be number(s).\n",
    "\n",
    "We can turn each character into a number or each word into a number.  These are called character and word ids, respectively.  Character ids are used for character level models that generate text predictions for each character.  A word level model uses word ids that generate text predictions for each word.  Word level models tend to learn better, since they are lower in complexity, so we'll use those.\n",
    "\n",
    "Turn each sentence into a sequence of words ids using Keras's [`Tokenizer`](https://keras.io/preprocessing/text/#tokenizer) function. Use this function to tokenize `english_sentences` and `french_sentences` in the cell below.\n",
    "\n",
    "Running the cell will run `tokenize` on sample data and show output for debugging."
   ]
  },
  {
   "cell_type": "code",
   "execution_count": 3,
   "metadata": {},
   "outputs": [
    {
     "name": "stderr",
     "output_type": "stream",
     "text": [
      "Using TensorFlow backend.\n"
     ]
    },
    {
     "name": "stdout",
     "output_type": "stream",
     "text": [
      "{'dog': 5, 'a': 1, 'won': 6, 'brown': 7, 'by': 11, 'prize': 8, 'lazy': 9, 'lexicography': 4, 'jumps': 10, 'quick': 3, 'short': 13, 'over': 14, 'jove': 12, 'my': 15, 'is': 16, 'the': 2, 'sentence': 18, 'study': 19, 'of': 20, 'fox': 17, 'this': 21}\n",
      "\n",
      "Sequence 1 in x\n",
      "  Input:  The quick brown fox jumps over the lazy dog .\n",
      "  Output: [2, 3, 7, 17, 10, 14, 2, 9, 5]\n",
      "Sequence 2 in x\n",
      "  Input:  By Jove , my quick study of lexicography won a prize .\n",
      "  Output: [11, 12, 15, 3, 19, 20, 4, 6, 1, 8]\n",
      "Sequence 3 in x\n",
      "  Input:  This is a short sentence .\n",
      "  Output: [21, 16, 1, 13, 18]\n"
     ]
    }
   ],
   "source": [
    "import project_tests as tests\n",
    "from keras.preprocessing.text import Tokenizer\n",
    "\n",
    "def tokenize(x):\n",
    "    \"\"\"\n",
    "    Tokenize x\n",
    "    :param x: List of sentences/strings to be tokenized\n",
    "    :return: Tuple of (tokenized x data, tokenizer used to tokenize x)\n",
    "    \"\"\"\n",
    "    \n",
    "    tokenizer = Tokenizer()\n",
    "    tokenizer.fit_on_texts(x)\n",
    "    x_tokenized = tokenizer.texts_to_sequences(x)\n",
    "    \n",
    "    return (x_tokenized, tokenizer)\n",
    "\n",
    "tests.test_tokenize(tokenize)\n",
    "\n",
    "# Tokenize Example output\n",
    "text_sentences = [\n",
    "    'The quick brown fox jumps over the lazy dog .',\n",
    "    'By Jove , my quick study of lexicography won a prize .',\n",
    "    'This is a short sentence .']\n",
    "text_tokenized, text_tokenizer = tokenize(text_sentences)\n",
    "print(text_tokenizer.word_index)\n",
    "print()\n",
    "for sample_i, (sent, token_sent) in enumerate(zip(text_sentences, text_tokenized)):\n",
    "    print('Sequence {} in x'.format(sample_i + 1))\n",
    "    print('  Input:  {}'.format(sent))\n",
    "    print('  Output: {}'.format(token_sent))"
   ]
  },
  {
   "cell_type": "markdown",
   "metadata": {},
   "source": [
    "### Padding (IMPLEMENTATION)\n",
    "When batching the sequence of word ids together, each sequence needs to be the same length.  Since sentences are dynamic in length, we can add padding to the end of the sequences to make them the same length.\n",
    "\n",
    "Make sure all the English sequences have the same length and all the French sequences have the same length by adding padding to the **end** of each sequence using Keras's [`pad_sequences`](https://keras.io/preprocessing/sequence/#pad_sequences) function."
   ]
  },
  {
   "cell_type": "code",
   "execution_count": 4,
   "metadata": {},
   "outputs": [
    {
     "name": "stdout",
     "output_type": "stream",
     "text": [
      "Sequence 1 in x\n",
      "  Input:  [ 2  3  7 17 10 14  2  9  5]\n",
      "  Output: [ 2  3  7 17 10 14  2  9  5  0]\n",
      "Sequence 2 in x\n",
      "  Input:  [11 12 15  3 19 20  4  6  1  8]\n",
      "  Output: [11 12 15  3 19 20  4  6  1  8]\n",
      "Sequence 3 in x\n",
      "  Input:  [21 16  1 13 18]\n",
      "  Output: [21 16  1 13 18  0  0  0  0  0]\n"
     ]
    }
   ],
   "source": [
    "import numpy as np\n",
    "from keras.preprocessing.sequence import pad_sequences\n",
    "\n",
    "def pad(x, length=None):\n",
    "    \"\"\"\n",
    "    Pad x\n",
    "    :param x: List of sequences.\n",
    "    :param length: Length to pad the sequence to.  If None, use length of longest sequence in x.\n",
    "    :return: Padded numpy array of sequences\n",
    "    \"\"\"\n",
    "\n",
    "    if length is None:\n",
    "        length = len(sorted(x, key=lambda s: len(s))[-1])\n",
    "    \n",
    "    x_padded = pad_sequences(x, length, padding='post')\n",
    "    \n",
    "    return x_padded\n",
    "\n",
    "tests.test_pad(pad)\n",
    "\n",
    "# Pad Tokenized output\n",
    "test_pad = pad(text_tokenized)\n",
    "for sample_i, (token_sent, pad_sent) in enumerate(zip(text_tokenized, test_pad)):\n",
    "    print('Sequence {} in x'.format(sample_i + 1))\n",
    "    print('  Input:  {}'.format(np.array(token_sent)))\n",
    "    print('  Output: {}'.format(pad_sent))"
   ]
  },
  {
   "cell_type": "markdown",
   "metadata": {},
   "source": [
    "### Preprocess Pipeline\n",
    "Your focus for this project is to build neural network architecture, so we won't ask you to create a preprocess pipeline.  Instead, we've provided you with the implementation of the `preprocess` function."
   ]
  },
  {
   "cell_type": "code",
   "execution_count": 5,
   "metadata": {},
   "outputs": [
    {
     "name": "stdout",
     "output_type": "stream",
     "text": [
      "Data Preprocessed\n"
     ]
    }
   ],
   "source": [
    "def preprocess(x, y):\n",
    "    \"\"\"\n",
    "    Preprocess x and y\n",
    "    :param x: Feature List of sentences\n",
    "    :param y: Label List of sentences\n",
    "    :return: Tuple of (Preprocessed x, Preprocessed y, x tokenizer, y tokenizer)\n",
    "    \"\"\"\n",
    "    preprocess_x, x_tk = tokenize(x)\n",
    "    preprocess_y, y_tk = tokenize(y)\n",
    "\n",
    "    preprocess_x = pad(preprocess_x)\n",
    "    preprocess_y = pad(preprocess_y)\n",
    "\n",
    "    # Keras's sparse_categorical_crossentropy function requires the labels to be in 3 dimensions\n",
    "    preprocess_y = preprocess_y.reshape(*preprocess_y.shape, 1)\n",
    "\n",
    "    return preprocess_x, preprocess_y, x_tk, y_tk\n",
    "\n",
    "preproc_english_sentences, preproc_french_sentences, english_tokenizer, french_tokenizer =\\\n",
    "    preprocess(english_sentences, french_sentences)\n",
    "\n",
    "print('Data Preprocessed')"
   ]
  },
  {
   "cell_type": "markdown",
   "metadata": {},
   "source": [
    "## Models\n",
    "In this section, you will experiment with various neural network architectures.\n",
    "You will begin by training four relatively simple architectures.\n",
    "- Model 1 is a simple RNN\n",
    "- Model 2 is a RNN with Embedding\n",
    "- Model 3 is a Bidirectional RNN\n",
    "- Model 4 is an optional Encoder-Decoder RNN\n",
    "\n",
    "After experimenting with the four simple architectures, you will construct a deeper architecture that is designed to outperform all four models.\n",
    "### Ids Back to Text\n",
    "The neural network will be translating the input to words ids, which isn't the final form we want.  We want the French translation.  The function `logits_to_text` will bridge the gap between the logits from the neural network to the French translation.  You'll be using this function to better understand the output of the neural network."
   ]
  },
  {
   "cell_type": "code",
   "execution_count": 6,
   "metadata": {},
   "outputs": [
    {
     "name": "stdout",
     "output_type": "stream",
     "text": [
      "`logits_to_text` function loaded.\n"
     ]
    }
   ],
   "source": [
    "def logits_to_text(logits, tokenizer):\n",
    "    \"\"\"\n",
    "    Turn logits from a neural network into text using the tokenizer\n",
    "    :param logits: Logits from a neural network\n",
    "    :param tokenizer: Keras Tokenizer fit on the labels\n",
    "    :return: String that represents the text of the logits\n",
    "    \"\"\"\n",
    "    index_to_words = {id: word for word, id in tokenizer.word_index.items()}\n",
    "    index_to_words[0] = '<PAD>'\n",
    "\n",
    "    return ' '.join([index_to_words[prediction] for prediction in np.argmax(logits, 1)])\n",
    "\n",
    "print('`logits_to_text` function loaded.')"
   ]
  },
  {
   "cell_type": "markdown",
   "metadata": {},
   "source": [
    "### Model 1: RNN (IMPLEMENTATION)\n",
    "![RNN](images/rnn.png)\n",
    "A basic RNN model is a good baseline for sequence data.  In this model, you'll build a RNN that translates English to French."
   ]
  },
  {
   "cell_type": "code",
   "execution_count": 9,
   "metadata": {},
   "outputs": [
    {
     "name": "stdout",
     "output_type": "stream",
     "text": [
      "Train on 110288 samples, validate on 27573 samples\n",
      "Epoch 1/10\n",
      "85s - loss: 1.3638 - acc: 0.6240 - val_loss: 1.0177 - val_acc: 0.6743\n",
      "Epoch 2/10\n",
      "84s - loss: 0.9013 - acc: 0.7056 - val_loss: 0.8758 - val_acc: 0.7011\n",
      "Epoch 3/10\n",
      "84s - loss: 0.7233 - acc: 0.7588 - val_loss: 0.6997 - val_acc: 0.7596\n",
      "Epoch 4/10\n",
      "84s - loss: 0.6253 - acc: 0.7898 - val_loss: 0.5741 - val_acc: 0.8122\n",
      "Epoch 5/10\n",
      "84s - loss: 0.5535 - acc: 0.8141 - val_loss: 0.5229 - val_acc: 0.8292\n",
      "Epoch 6/10\n",
      "84s - loss: 0.5042 - acc: 0.8295 - val_loss: 0.4905 - val_acc: 0.8350\n",
      "Epoch 7/10\n",
      "84s - loss: 0.4835 - acc: 0.8340 - val_loss: 0.4844 - val_acc: 0.8437\n",
      "Epoch 8/10\n",
      "84s - loss: 0.4537 - acc: 0.8436 - val_loss: 0.4341 - val_acc: 0.8506\n",
      "Epoch 9/10\n",
      "84s - loss: 0.4237 - acc: 0.8523 - val_loss: 0.3981 - val_acc: 0.8640\n",
      "Epoch 10/10\n",
      "84s - loss: 0.4076 - acc: 0.8572 - val_loss: 0.6278 - val_acc: 0.7847\n",
      "new jersey est parfois calme en mois de mai et il est neigeux en avril <PAD> <PAD> <PAD> <PAD> <PAD> <PAD>\n"
     ]
    }
   ],
   "source": [
    "from keras.layers import GRU, Input, Dense, TimeDistributed\n",
    "from keras.models import Model\n",
    "from keras.optimizers import Adam\n",
    "\n",
    "def simple_model(input_shape, output_sequence_length, english_vocab_size, french_vocab_size):\n",
    "    \"\"\"\n",
    "    Build and train a basic RNN on x and y\n",
    "    :param input_shape: Tuple of input shape\n",
    "    :param output_sequence_length: Length of output sequence\n",
    "    :param english_vocab_size: Number of unique English words in the dataset\n",
    "    :param french_vocab_size: Number of unique French words in the dataset\n",
    "    :return: Keras model built, but not trained\n",
    "    \"\"\"\n",
    "    \n",
    "    # define layers\n",
    "    inp = Input(shape=input_shape[1:])\n",
    "    gru = GRU(units=750, return_sequences=True)(inp)\n",
    "    dense = TimeDistributed(Dense(units=french_vocab_size*2, activation='relu'))(gru)\n",
    "    out = Dense(units=french_vocab_size, activation='softmax')(dense)\n",
    "    \n",
    "    # compose a model\n",
    "    model = Model(inputs=inp, outputs=out)\n",
    "    \n",
    "    # compile the model\n",
    "    optimizer = Adam(lr=.001, clipvalue=.5)\n",
    "    model.compile(loss='sparse_categorical_crossentropy', optimizer=optimizer, metrics=['accuracy'])\n",
    "   \n",
    "    return model\n",
    "\n",
    "tests.test_simple_model(simple_model)\n",
    "\n",
    "# Reshaping the input to work with a basic RNN\n",
    "tmp_x = pad(preproc_english_sentences, preproc_french_sentences.shape[1])\n",
    "tmp_x = tmp_x.reshape((-1, preproc_french_sentences.shape[-2], 1))\n",
    "\n",
    "# Train the neural network\n",
    "simple_rnn_model = simple_model(tmp_x.shape, preproc_french_sentences.shape[1],\n",
    "                                len(english_tokenizer.word_index) + 1,\n",
    "                                len(french_tokenizer.word_index) + 1)\n",
    "simple_rnn_model.fit(tmp_x, preproc_french_sentences, batch_size=200, epochs=10, validation_split=0.2, verbose=2)\n",
    "\n",
    "# Print prediction(s)\n",
    "print(logits_to_text(simple_rnn_model.predict(tmp_x[:1])[0], french_tokenizer))"
   ]
  },
  {
   "cell_type": "markdown",
   "metadata": {},
   "source": [
    "### Model 2: Embedding (IMPLEMENTATION)\n",
    "![RNN](images/embedding.png)\n",
    "You've turned the words into ids, but there's a better representation of a word.  This is called word embeddings.  An embedding is a vector representation of the word that is close to similar words in n-dimensional space, where the n represents the size of the embedding vectors.\n",
    "\n",
    "In this model, you'll create a RNN model using embedding."
   ]
  },
  {
   "cell_type": "code",
   "execution_count": 12,
   "metadata": {},
   "outputs": [
    {
     "name": "stdout",
     "output_type": "stream",
     "text": [
      "Train on 110288 samples, validate on 27573 samples\n",
      "Epoch 1/10\n",
      "93s - loss: 0.9810 - acc: 0.7566 - val_loss: 0.3812 - val_acc: 0.8747\n",
      "Epoch 2/10\n",
      "91s - loss: 0.3128 - acc: 0.8948 - val_loss: 0.2645 - val_acc: 0.9086\n",
      "Epoch 3/10\n",
      "91s - loss: 0.2399 - acc: 0.9172 - val_loss: 0.2305 - val_acc: 0.9210\n",
      "Epoch 4/10\n",
      "91s - loss: 0.2113 - acc: 0.9263 - val_loss: 0.2123 - val_acc: 0.9267\n",
      "Epoch 5/10\n",
      "91s - loss: 0.1947 - acc: 0.9313 - val_loss: 0.1976 - val_acc: 0.9310\n",
      "Epoch 6/10\n",
      "91s - loss: 0.1846 - acc: 0.9341 - val_loss: 0.1979 - val_acc: 0.9307\n",
      "Epoch 7/10\n",
      "91s - loss: 0.1795 - acc: 0.9357 - val_loss: 0.1952 - val_acc: 0.9322\n",
      "Epoch 8/10\n",
      "91s - loss: 0.1740 - acc: 0.9373 - val_loss: 0.1872 - val_acc: 0.9353\n",
      "Epoch 9/10\n",
      "92s - loss: 0.1676 - acc: 0.9391 - val_loss: 0.1850 - val_acc: 0.9354\n",
      "Epoch 10/10\n",
      "92s - loss: 0.1653 - acc: 0.9394 - val_loss: 0.1869 - val_acc: 0.9346\n",
      "new jersey est parfois calme en l' automne et il est neigeux en avril <PAD> <PAD> <PAD> <PAD> <PAD> <PAD> <PAD>\n"
     ]
    }
   ],
   "source": [
    "from keras.layers.embeddings import Embedding\n",
    "\n",
    "def embed_model(input_shape, output_sequence_length, english_vocab_size, french_vocab_size):\n",
    "    \"\"\"\n",
    "    Build and train a RNN model using word embedding on x and y\n",
    "    :param input_shape: Tuple of input shape\n",
    "    :param output_sequence_length: Length of output sequence\n",
    "    :param english_vocab_size: Number of unique English words in the dataset\n",
    "    :param french_vocab_size: Number of unique French words in the dataset\n",
    "    :return: Keras model built, but not trained\n",
    "    \"\"\"\n",
    "    \n",
    "    # define layers\n",
    "    inp = Input(shape=input_shape[1:])\n",
    "    emb = Embedding(750, english_vocab_size)(inp)\n",
    "    gru = GRU(units=750, return_sequences=True)(emb)\n",
    "    dense = TimeDistributed(Dense(units=french_vocab_size*2, activation='relu'))(gru)\n",
    "    out = Dense(units=french_vocab_size, activation='softmax')(dense)\n",
    "    \n",
    "    # compose a model\n",
    "    model = Model(inputs=inp, outputs=out)\n",
    "    \n",
    "    # compile the model\n",
    "    optimizer = Adam(lr=.001, clipvalue=.5)\n",
    "    model.compile(loss='sparse_categorical_crossentropy', optimizer=optimizer, metrics=['accuracy'])\n",
    "    \n",
    "    return model\n",
    "\n",
    "tests.test_embed_model(embed_model)\n",
    "\n",
    "# Reshaping the input\n",
    "tmp_x = pad(preproc_english_sentences, preproc_french_sentences.shape[1])\n",
    "\n",
    "# Train the neural network\n",
    "emb_model = embed_model(tmp_x.shape, preproc_french_sentences.shape[1],\n",
    "                                len(english_tokenizer.word_index) + 1,\n",
    "                                len(french_tokenizer.word_index) + 1)\n",
    "emb_model.fit(tmp_x, preproc_french_sentences, batch_size=200, epochs=10, validation_split=0.2, verbose=2)\n",
    "\n",
    "# Print prediction(s)\n",
    "print(logits_to_text(emb_model.predict(tmp_x[:1])[0], french_tokenizer))"
   ]
  },
  {
   "cell_type": "markdown",
   "metadata": {},
   "source": [
    "### Model 3: Bidirectional RNNs (IMPLEMENTATION)\n",
    "![RNN](images/bidirectional.png)\n",
    "One restriction of a RNN is that it can't see the future input, only the past.  This is where bidirectional recurrent neural networks come in.  They are able to see the future data."
   ]
  },
  {
   "cell_type": "code",
   "execution_count": 15,
   "metadata": {},
   "outputs": [
    {
     "name": "stdout",
     "output_type": "stream",
     "text": [
      "Train on 110288 samples, validate on 27573 samples\n",
      "Epoch 1/10\n",
      "159s - loss: 1.2066 - acc: 0.6537 - val_loss: 0.9372 - val_acc: 0.6873\n",
      "Epoch 2/10\n",
      "157s - loss: 0.8152 - acc: 0.7215 - val_loss: 0.7188 - val_acc: 0.7515\n",
      "Epoch 3/10\n",
      "157s - loss: 0.6404 - acc: 0.7784 - val_loss: 0.5771 - val_acc: 0.7999\n",
      "Epoch 4/10\n",
      "157s - loss: 0.5253 - acc: 0.8193 - val_loss: 0.4897 - val_acc: 0.8314\n",
      "Epoch 5/10\n",
      "157s - loss: 0.4641 - acc: 0.8380 - val_loss: 0.4599 - val_acc: 0.8424\n",
      "Epoch 6/10\n",
      "157s - loss: 0.4150 - acc: 0.8550 - val_loss: 0.4575 - val_acc: 0.8410\n",
      "Epoch 7/10\n",
      "157s - loss: 0.3825 - acc: 0.8648 - val_loss: 0.4665 - val_acc: 0.8317\n",
      "Epoch 8/10\n",
      "157s - loss: 0.3570 - acc: 0.8726 - val_loss: 0.3690 - val_acc: 0.8664\n",
      "Epoch 9/10\n",
      "157s - loss: 0.3488 - acc: 0.8752 - val_loss: 0.3322 - val_acc: 0.8868\n",
      "Epoch 10/10\n",
      "157s - loss: 0.3269 - acc: 0.8818 - val_loss: 0.3439 - val_acc: 0.8729\n",
      "new jersey est parfois calme pendant l' automne et il et neigeux en avril <PAD> <PAD> <PAD> <PAD> <PAD> <PAD> <PAD>\n"
     ]
    }
   ],
   "source": [
    "from keras.layers import Bidirectional\n",
    "\n",
    "def bd_model(input_shape, output_sequence_length, english_vocab_size, french_vocab_size):\n",
    "    \"\"\"\n",
    "    Build and train a bidirectional RNN model on x and y\n",
    "    :param input_shape: Tuple of input shape\n",
    "    :param output_sequence_length: Length of output sequence\n",
    "    :param english_vocab_size: Number of unique English words in the dataset\n",
    "    :param french_vocab_size: Number of unique French words in the dataset\n",
    "    :return: Keras model built, but not trained\n",
    "    \"\"\"\n",
    "\n",
    "    # define layers\n",
    "    inp = Input(shape=input_shape[1:])\n",
    "    bd = Bidirectional(GRU(units=750, return_sequences=True), merge_mode='sum')(inp)\n",
    "    dense = TimeDistributed(Dense(units=french_vocab_size*2, activation='relu'))(bd)\n",
    "    out = Dense(units=french_vocab_size, activation='softmax')(dense)\n",
    "    \n",
    "    # compose a model\n",
    "    model = Model(inputs=inp, outputs=out)\n",
    "    \n",
    "    # compile the model\n",
    "    optimizer = Adam(lr=.001, clipvalue=.5)\n",
    "    model.compile(loss='sparse_categorical_crossentropy', optimizer=optimizer, metrics=['accuracy'])\n",
    "    \n",
    "    return model\n",
    "\n",
    "tests.test_bd_model(bd_model)\n",
    "\n",
    "# Reshaping the input\n",
    "tmp_x = pad(preproc_english_sentences, preproc_french_sentences.shape[1])\n",
    "tmp_x = tmp_x.reshape((-1, preproc_french_sentences.shape[-2], 1))\n",
    "\n",
    "# Train the neural network\n",
    "bidir_model = bd_model(tmp_x.shape, preproc_french_sentences.shape[1],\n",
    "                                len(english_tokenizer.word_index) + 1,\n",
    "                                len(french_tokenizer.word_index) + 1)\n",
    "bidir_model.fit(tmp_x, preproc_french_sentences, batch_size=200, epochs=10, validation_split=0.2, verbose=2)\n",
    "\n",
    "# Print prediction(s)\n",
    "print(logits_to_text(bidir_model.predict(tmp_x[:1])[0], french_tokenizer))"
   ]
  },
  {
   "cell_type": "markdown",
   "metadata": {},
   "source": [
    "### Model 4: Encoder-Decoder (OPTIONAL)\n",
    "Time to look at encoder-decoder models.  This model is made up of an encoder and decoder. The encoder creates a matrix representation of the sentence.  The decoder takes this matrix as input and predicts the translation as output.\n",
    "\n",
    "Create an encoder-decoder model in the cell below."
   ]
  },
  {
   "cell_type": "code",
   "execution_count": 36,
   "metadata": {},
   "outputs": [
    {
     "name": "stdout",
     "output_type": "stream",
     "text": [
      "Train on 110288 samples, validate on 27573 samples\n",
      "Epoch 1/10\n",
      "214s - loss: 1.7564 - acc: 0.5681 - val_loss: 1.3388 - val_acc: 0.6168\n",
      "Epoch 2/10\n",
      "209s - loss: 1.2192 - acc: 0.6477 - val_loss: 1.1516 - val_acc: 0.6586\n",
      "Epoch 3/10\n",
      "209s - loss: 0.9993 - acc: 0.6869 - val_loss: 0.9019 - val_acc: 0.7080\n",
      "Epoch 4/10\n",
      "209s - loss: 0.8470 - acc: 0.7199 - val_loss: 0.8055 - val_acc: 0.7265\n",
      "Epoch 5/10\n",
      "209s - loss: 0.7369 - acc: 0.7449 - val_loss: 0.6994 - val_acc: 0.7537\n",
      "Epoch 6/10\n",
      "209s - loss: 0.6362 - acc: 0.7739 - val_loss: 0.5800 - val_acc: 0.7948\n",
      "Epoch 7/10\n",
      "210s - loss: 0.5687 - acc: 0.7963 - val_loss: 0.5731 - val_acc: 0.7921\n",
      "Epoch 8/10\n",
      "210s - loss: 0.4921 - acc: 0.8193 - val_loss: 0.4333 - val_acc: 0.8424\n",
      "Epoch 9/10\n",
      "209s - loss: 0.4627 - acc: 0.8298 - val_loss: 0.5162 - val_acc: 0.8148\n",
      "Epoch 10/10\n",
      "209s - loss: 0.4302 - acc: 0.8396 - val_loss: 0.6945 - val_acc: 0.7664\n",
      "new jersey est parfois chaud au mois de mai et il est chaud en novembre <PAD> <PAD> <PAD> <PAD> <PAD> <PAD>\n"
     ]
    }
   ],
   "source": [
    "from keras.layers import RepeatVector\n",
    "\n",
    "def encdec_model(input_shape, output_sequence_length, english_vocab_size, french_vocab_size):\n",
    "    \"\"\"\n",
    "    Build and train an encoder-decoder model on x and y\n",
    "    :param input_shape: Tuple of input shape\n",
    "    :param output_sequence_length: Length of output sequence\n",
    "    :param english_vocab_size: Number of unique English words in the dataset\n",
    "    :param french_vocab_size: Number of unique French words in the dataset\n",
    "    :return: Keras model built, but not trained\n",
    "    \"\"\"\n",
    "\n",
    "    # define layers\n",
    "    inp = Input(shape=input_shape[1:])\n",
    "    gru_enc = GRU(units=750)(inp)\n",
    "    rv = RepeatVector(output_sequence_length)(gru_enc)\n",
    "    gru_dec = GRU(units=750, return_sequences=True)(rv)\n",
    "    dense = TimeDistributed(Dense(units=french_vocab_size*2, activation='relu'))(gru_dec)\n",
    "    out = Dense(units=french_vocab_size, activation='softmax')(dense)\n",
    "    \n",
    "    # compose a model\n",
    "    model = Model(inputs=inp, outputs=out)\n",
    "    \n",
    "    # compile the model\n",
    "    optimizer = Adam(lr=.001, clipvalue=.5)\n",
    "    model.compile(loss='sparse_categorical_crossentropy', optimizer=optimizer, metrics=['accuracy'])\n",
    "    \n",
    "    return model\n",
    "\n",
    "tests.test_encdec_model(encdec_model)\n",
    "\n",
    "# Reshaping the input\n",
    "tmp_x = pad(preproc_english_sentences, preproc_french_sentences.shape[1])\n",
    "tmp_x = tmp_x.reshape((-1, preproc_french_sentences.shape[-2], 1))\n",
    "\n",
    "# Train the neural network\n",
    "enc_dec_model = encdec_model(tmp_x.shape, preproc_french_sentences.shape[1],\n",
    "                                len(english_tokenizer.word_index) + 1,\n",
    "                                len(french_tokenizer.word_index) + 1)\n",
    "enc_dec_model.fit(tmp_x, preproc_french_sentences, batch_size=200, epochs=10, validation_split=0.2, verbose=2)\n",
    "\n",
    "# Print prediction(s)\n",
    "print(logits_to_text(enc_dec_model.predict(tmp_x[:1])[0], french_tokenizer))"
   ]
  },
  {
   "cell_type": "markdown",
   "metadata": {},
   "source": [
    "### Model 5: Custom (IMPLEMENTATION)\n",
    "Use everything you learned from the previous models to create a model that incorporates embedding and a bidirectional rnn into one model."
   ]
  },
  {
   "cell_type": "code",
   "execution_count": 8,
   "metadata": {},
   "outputs": [
    {
     "name": "stdout",
     "output_type": "stream",
     "text": [
      "Final Model Loaded\n"
     ]
    }
   ],
   "source": [
    "def model_final(input_shape, output_sequence_length, english_vocab_size, french_vocab_size):\n",
    "    \"\"\"\n",
    "    Build and train a model that incorporates embedding, encoder-decoder, and bidirectional RNN on x and y\n",
    "    :param input_shape: Tuple of input shape\n",
    "    :param output_sequence_length: Length of output sequence\n",
    "    :param english_vocab_size: Number of unique English words in the dataset\n",
    "    :param french_vocab_size: Number of unique French words in the dataset\n",
    "    :return: Keras model built, but not trained\n",
    "    \"\"\"\n",
    "   \n",
    "    # define layers\n",
    "    inp = Input(shape=input_shape[1:])\n",
    "    emb = Embedding(750, english_vocab_size)(inp)\n",
    "    bd = Bidirectional(GRU(units=750, return_sequences=True))(emb)\n",
    "    dense = TimeDistributed(Dense(units=french_vocab_size*2, activation='relu'))(bd)\n",
    "    out = Dense(units=french_vocab_size, activation='softmax')(dense)\n",
    "    \n",
    "    # compose a model\n",
    "    model = Model(inputs=inp, outputs=out)\n",
    "    \n",
    "    # compile the model\n",
    "    optimizer = Adam(lr=.001, clipvalue=.5)\n",
    "    model.compile(loss='sparse_categorical_crossentropy', optimizer=optimizer, metrics=['accuracy'])\n",
    "\n",
    "    return model\n",
    "\n",
    "tests.test_model_final(model_final)\n",
    "\n",
    "print('Final Model Loaded')"
   ]
  },
  {
   "cell_type": "markdown",
   "metadata": {},
   "source": [
    "## Prediction (IMPLEMENTATION)"
   ]
  },
  {
   "cell_type": "code",
   "execution_count": 9,
   "metadata": {},
   "outputs": [
    {
     "name": "stdout",
     "output_type": "stream",
     "text": [
      "Train on 110288 samples, validate on 27573 samples\n",
      "Epoch 1/10\n",
      "183s - loss: 0.8135 - acc: 0.7971 - val_loss: 0.2767 - val_acc: 0.9107\n",
      "Epoch 2/10\n",
      "180s - loss: 0.1981 - acc: 0.9360 - val_loss: 0.1487 - val_acc: 0.9523\n",
      "Epoch 3/10\n",
      "180s - loss: 0.1235 - acc: 0.9602 - val_loss: 0.1200 - val_acc: 0.9613\n",
      "Epoch 4/10\n",
      "181s - loss: 0.0907 - acc: 0.9711 - val_loss: 0.0896 - val_acc: 0.9728\n",
      "Epoch 5/10\n",
      "180s - loss: 0.0721 - acc: 0.9773 - val_loss: 0.0808 - val_acc: 0.9756\n",
      "Epoch 6/10\n",
      "181s - loss: 0.0617 - acc: 0.9809 - val_loss: 0.0713 - val_acc: 0.9785\n",
      "Epoch 7/10\n",
      "181s - loss: 0.0515 - acc: 0.9839 - val_loss: 0.0727 - val_acc: 0.9790\n",
      "Epoch 8/10\n",
      "181s - loss: 0.0453 - acc: 0.9859 - val_loss: 0.0646 - val_acc: 0.9818\n",
      "Epoch 9/10\n",
      "181s - loss: 0.0405 - acc: 0.9875 - val_loss: 0.0634 - val_acc: 0.9819\n",
      "Epoch 10/10\n",
      "181s - loss: 0.0346 - acc: 0.9894 - val_loss: 0.0654 - val_acc: 0.9821\n",
      "Sample 1:\n",
      "il a vu un vieux camion jaune <PAD> <PAD> <PAD> <PAD> <PAD> <PAD> <PAD> <PAD> <PAD> <PAD> <PAD> <PAD> <PAD> <PAD>\n",
      "Il a vu un vieux camion jaune\n",
      "Sample 2:\n",
      "new jersey est parfois calme pendant l' automne et il est neigeux en avril <PAD> <PAD> <PAD> <PAD> <PAD> <PAD> <PAD>\n",
      "<PAD> <PAD> <PAD> <PAD> <PAD> <PAD> <PAD> <PAD> <PAD> <PAD> <PAD> <PAD> <PAD> <PAD> <PAD> <PAD> <PAD> <PAD> <PAD> <PAD> <PAD>\n"
     ]
    }
   ],
   "source": [
    "import numpy as np\n",
    "from keras.preprocessing.sequence import pad_sequences\n",
    "\n",
    "def final_predictions(x, y, x_tk, y_tk):\n",
    "    \"\"\"\n",
    "    Gets predictions using the final model\n",
    "    :param x: Preprocessed English data\n",
    "    :param y: Preprocessed French data\n",
    "    :param x_tk: English tokenizer\n",
    "    :param y_tk: French tokenizer\n",
    "    \"\"\"\n",
    "\n",
    "    # train the neural network\n",
    "    x = pad(x, y.shape[1])\n",
    "    final_model = model_final(x.shape, y.shape[1],\n",
    "                              len(x_tk.word_index) + 1,\n",
    "                              len(y_tk.word_index) + 1)\n",
    "    final_model.fit(x, y, batch_size=200, epochs=10, validation_split=0.2, verbose=2)\n",
    "    \n",
    "    model = final_model\n",
    "    \n",
    "    ## DON'T EDIT ANYTHING BELOW THIS LINE\n",
    "    y_id_to_word = {value: key for key, value in y_tk.word_index.items()}\n",
    "    y_id_to_word[0] = '<PAD>'\n",
    "\n",
    "    sentence = 'he saw a old yellow truck'\n",
    "    sentence = [x_tk.word_index[word] for word in sentence.split()]\n",
    "    sentence = pad_sequences([sentence], maxlen=x.shape[-1], padding='post')\n",
    "    sentences = np.array([sentence[0], x[0]])\n",
    "    predictions = model.predict(sentences, len(sentences))\n",
    "\n",
    "    print('Sample 1:')\n",
    "    print(' '.join([y_id_to_word[np.argmax(x)] for x in predictions[0]]))\n",
    "    print('Il a vu un vieux camion jaune')\n",
    "    print('Sample 2:')\n",
    "    print(' '.join([y_id_to_word[np.argmax(x)] for x in predictions[1]]))\n",
    "    print(' '.join([y_id_to_word[np.argmax(x)] for x in y[0]]))\n",
    "\n",
    "final_predictions(preproc_english_sentences, preproc_french_sentences, english_tokenizer, french_tokenizer)"
   ]
  },
  {
   "cell_type": "markdown",
   "metadata": {},
   "source": [
    "## Submission\n",
    "When you are ready to submit your project, do the following steps:\n",
    "1. Ensure you pass all points on the [rubric](https://review.udacity.com/#!/rubrics/1004/view).\n",
    "2. Submit the following in a zip file.\n",
    "  - `helper.py`\n",
    "  - `machine_translation.ipynb`\n",
    "  - `machine_translation.html`\n",
    "    - You can export the notebook by navigating to **File -> Download as -> HTML (.html)**."
   ]
  }
 ],
 "metadata": {
  "anaconda-cloud": {},
  "kernelspec": {
   "display_name": "Python [conda env:aind-dl]",
   "language": "python",
   "name": "conda-env-aind-dl-py"
  },
  "language_info": {
   "codemirror_mode": {
    "name": "ipython",
    "version": 3
   },
   "file_extension": ".py",
   "mimetype": "text/x-python",
   "name": "python",
   "nbconvert_exporter": "python",
   "pygments_lexer": "ipython3",
   "version": "3.5.4"
  }
 },
 "nbformat": 4,
 "nbformat_minor": 1
}
